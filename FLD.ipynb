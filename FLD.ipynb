{
 "cells": [
  {
   "cell_type": "code",
   "execution_count": 1,
   "metadata": {},
   "outputs": [
    {
     "name": "stderr",
     "output_type": "stream",
     "text": [
      "/home/g5sokolovroman/anaconda3/lib/python3.6/site-packages/h5py/__init__.py:36: FutureWarning: Conversion of the second argument of issubdtype from `float` to `np.floating` is deprecated. In future, it will be treated as `np.float64 == np.dtype(float).type`.\n",
      "  from ._conv import register_converters as _register_converters\n"
     ]
    }
   ],
   "source": [
    "import numpy as np\n",
    "import tensorflow as tf\n",
    "import matplotlib.pyplot as plt\n",
    "from detection import train_detector, detect\n",
    "\n",
    "train_dir = '00_input/train'\n",
    "im_size = 100\n",
    "coords_size = 28"
   ]
  },
  {
   "cell_type": "code",
   "execution_count": 3,
   "metadata": {},
   "outputs": [
    {
     "name": "stderr",
     "output_type": "stream",
     "text": [
      "Using TensorFlow backend.\n"
     ]
    }
   ],
   "source": [
    "from keras.models import Model\n",
    "from keras import backend as K\n",
    "from keras.callbacks import Callback\n",
    "from keras.callbacks import ModelCheckpoint\n",
    "from keras.utils import Sequence\n",
    "\n",
    "from keras.layers import (Input, concatenate, Conv2D, MaxPooling2D, \n",
    "                          UpSampling2D, Convolution2D, ZeroPadding2D, \n",
    "                          BatchNormalization, Activation, concatenate, \n",
    "                          Flatten, Dense, merge)\n",
    "from keras.optimizers import rmsprop\n",
    "\n",
    "def get_model():\n",
    "    inputs = Input(shape=(im_size, im_size, 1))\n",
    "    conv = Conv2D(filters=256, kernel_size=(3,3), padding='same')(inputs)\n",
    "    batchnorm = BatchNormalization()(conv)\n",
    "    relu = Activation('relu')(batchnorm)\n",
    "    \n",
    "    conv = Conv2D(filters=128, kernel_size=(3,3), padding='same')(relu)\n",
    "    batchnorm = BatchNormalization()(conv)\n",
    "    relu = Activation('relu')(batchnorm)\n",
    "    maxpool = MaxPooling2D()(relu)\n",
    "    \n",
    "    conv = Conv2D(filters=64, kernel_size=(3,3), padding='same')(maxpool)\n",
    "    batchnorm = BatchNormalization()(conv)\n",
    "    relu = Activation('relu')(batchnorm)\n",
    "    \n",
    "    conv = Conv2D(filters=64, kernel_size=(3,3), padding='same')(relu)\n",
    "    batchnorm = BatchNormalization()(conv)\n",
    "    relu = Activation('relu')(batchnorm)\n",
    "    maxpool = MaxPooling2D()(relu)\n",
    "    \n",
    "    conv = Conv2D(filters=32, kernel_size=(3,3), padding='same')(maxpool)\n",
    "    batchnorm = BatchNormalization()(conv)\n",
    "    relu = Activation('relu')(batchnorm)\n",
    "    \n",
    "    flatten = Flatten()(relu)\n",
    "    predictions = Dense(coords_size, activation='tanh')(flatten)\n",
    "    \n",
    "    model = Model(inputs=inputs, outputs=predictions)\n",
    "    model.compile(optimizer='rmsprop', loss='mean_squared_error')\n",
    "    return model\n",
    "\n",
    "def first_model():\n",
    "    inputs = Input(shape=(im_size, im_size, 1))\n",
    "    conv = Conv2D(filters=256, kernel_size=(3,3), padding='same')(inputs)\n",
    "    batchnorm = BatchNormalization()(conv)\n",
    "    relu = Activation('relu')(batchnorm)\n",
    "    \n",
    "    conv = Conv2D(filters=128, kernel_size=(3,3), padding='same')(relu)\n",
    "    batchnorm = BatchNormalization()(conv)\n",
    "    relu = Activation('relu')(batchnorm)\n",
    "    maxpool = MaxPooling2D()(relu)\n",
    "    \n",
    "    conv = Conv2D(filters=64, kernel_size=(3,3), padding='same')(maxpool)\n",
    "    batchnorm = BatchNormalization()(conv)\n",
    "    relu = Activation('relu')(batchnorm)\n",
    "    \n",
    "    conv = Conv2D(filters=64, kernel_size=(3,3), padding='same')(relu)\n",
    "    batchnorm = BatchNormalization()(conv)\n",
    "    relu = Activation('relu')(batchnorm)\n",
    "    \n",
    "    conv = Conv2D(filters=64, kernel_size=(3,3), padding='same')(relu)\n",
    "    batchnorm = BatchNormalization()(conv)\n",
    "    relu = Activation('relu')(batchnorm)\n",
    "    maxpool = MaxPooling2D()(relu)\n",
    "    \n",
    "    conv = Conv2D(filters=64, kernel_size=(3,3), padding='same')(maxpool)\n",
    "    batchnorm = BatchNormalization()(conv)\n",
    "    relu = Activation('relu')(batchnorm)\n",
    "    \n",
    "    conv = Conv2D(filters=64, kernel_size=(3,3), padding='same')(relu)\n",
    "    batchnorm = BatchNormalization()(conv)\n",
    "    relu = Activation('relu')(batchnorm)\n",
    "    maxpool = MaxPooling2D()(relu)\n",
    "    \n",
    "    conv = Conv2D(filters=32, kernel_size=(3,3), padding='same')(maxpool)\n",
    "    batchnorm = BatchNormalization()(conv)\n",
    "    relu = Activation('relu')(batchnorm)\n",
    "    \n",
    "    flatten = Flatten()(relu)\n",
    "    predictions = Dense(coords_size, activation='tanh')(flatten)\n",
    "    \n",
    "    model = Model(inputs=inputs, outputs=predictions)\n",
    "    model.compile(optimizer='rmsprop', loss='mean_squared_error')\n",
    "    return model"
   ]
  },
  {
   "cell_type": "code",
   "execution_count": 9,
   "metadata": {},
   "outputs": [],
   "source": [
    "train_gt = read_csv(train_dir+'/gt.csv')\n",
    "train_detector(train_gt, train_dir+'/images', False, first_model, 'first')\n",
    "\n",
    "from keras.models import load_model\n",
    "model = load_model('first_10_0.0039.hdf5')\n",
    "ans_dict = detect(model, '00_input/test/images')"
   ]
  },
  {
   "cell_type": "code",
   "execution_count": null,
   "metadata": {
    "collapsed": true
   },
   "outputs": [],
   "source": []
  }
 ],
 "metadata": {
  "kernelspec": {
   "display_name": "Python 3",
   "language": "python",
   "name": "python3"
  },
  "language_info": {
   "codemirror_mode": {
    "name": "ipython",
    "version": 3
   },
   "file_extension": ".py",
   "mimetype": "text/x-python",
   "name": "python",
   "nbconvert_exporter": "python",
   "pygments_lexer": "ipython3",
   "version": "3.6.3"
  }
 },
 "nbformat": 4,
 "nbformat_minor": 2
}
